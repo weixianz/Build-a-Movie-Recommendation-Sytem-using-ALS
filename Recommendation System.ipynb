{
  "nbformat": 4,
  "nbformat_minor": 0,
  "metadata": {
    "kernelspec": {
      "display_name": "Python 2",
      "language": "python",
      "name": "python2"
    },
    "language_info": {
      "mimetype": "text/x-python",
      "name": "python",
      "pygments_lexer": "ipython2",
      "codemirror_mode": {
        "name": "ipython",
        "version": "2"
      },
      "version": "2.7.14",
      "nbconvert_exporter": "python",
      "file_extension": ".py"
    },
    "name": "HW2_RecommendationSystem",
    "notebookId": 3556984236964774,
    "colab": {
      "name": "HW2_RecommendationSystem.ipynb",
      "provenance": [],
      "collapsed_sections": []
    }
  },
  "cells": [
    {
      "cell_type": "markdown",
      "metadata": {
        "id": "Oigm-f-T4ZHK",
        "colab_type": "text"
      },
      "source": [
        "## Moive Recommendation Using Spark\n",
        "In this notebook, we will use an Alternating Least Squares (ALS) algorithm with Spark APIs to predict the ratings for the movies in [MovieLens small dataset](https://grouplens.org/datasets/movielens/latest/)\n"
      ]
    },
    {
      "cell_type": "code",
      "metadata": {
        "id": "GTkek2N44ZHT",
        "colab_type": "code",
        "colab": {},
        "outputId": "da5ca046-df29-40a1-dc04-eb362f5d5e0e"
      },
      "source": [
        "import numpy as np\n",
        "import pandas as pd\n",
        "import seaborn as sns\n",
        "import matplotlib.pyplot as plt\n",
        "import math\n",
        "from pyspark.sql.functions import countDistinct, explode, split, concat_ws, collect_list, isnan"
      ],
      "execution_count": 0,
      "outputs": [
        {
          "output_type": "display_data",
          "data": {
            "text/html": [
              "<style scoped>\n",
              "  .ansiout {\n",
              "    display: block;\n",
              "    unicode-bidi: embed;\n",
              "    white-space: pre-wrap;\n",
              "    word-wrap: break-word;\n",
              "    word-break: break-all;\n",
              "    font-family: \"Source Code Pro\", \"Menlo\", monospace;;\n",
              "    font-size: 13px;\n",
              "    color: #555;\n",
              "    margin-left: 4px;\n",
              "    line-height: 19px;\n",
              "  }\n",
              "</style>\n",
              "<div class=\"ansiout\"></div>"
            ]
          },
          "metadata": {
            "tags": []
          }
        }
      ]
    },
    {
      "cell_type": "code",
      "metadata": {
        "id": "-vmWC8cR4ZHa",
        "colab_type": "code",
        "colab": {},
        "outputId": "65b185f5-30ee-4309-a1f5-cf8346f274a8"
      },
      "source": [
        "import os\n",
        "os.environ[\"PYSPARK_PYTHON\"] = \"python3\""
      ],
      "execution_count": 0,
      "outputs": [
        {
          "output_type": "display_data",
          "data": {
            "text/html": [
              "<style scoped>\n",
              "  .ansiout {\n",
              "    display: block;\n",
              "    unicode-bidi: embed;\n",
              "    white-space: pre-wrap;\n",
              "    word-wrap: break-word;\n",
              "    word-break: break-all;\n",
              "    font-family: \"Source Code Pro\", \"Menlo\", monospace;;\n",
              "    font-size: 13px;\n",
              "    color: #555;\n",
              "    margin-left: 4px;\n",
              "    line-height: 19px;\n",
              "  }\n",
              "</style>\n",
              "<div class=\"ansiout\"></div>"
            ]
          },
          "metadata": {
            "tags": []
          }
        }
      ]
    },
    {
      "cell_type": "markdown",
      "metadata": {
        "id": "xbRZiytz4ZHd",
        "colab_type": "text"
      },
      "source": [
        "## Part1: Data ETL and Data Exploration"
      ]
    },
    {
      "cell_type": "code",
      "metadata": {
        "id": "mjgKCw9A4ZHf",
        "colab_type": "code",
        "colab": {},
        "outputId": "7d73e5eb-f389-487e-b9b7-6384763ebc11"
      },
      "source": [
        "from pyspark.sql import SparkSession\n",
        "spark = SparkSession \\\n",
        "    .builder \\\n",
        "    .appName(\"moive analysis\") \\\n",
        "    .config(\"spark.some.config.option\", \"some-value\") \\\n",
        "    .getOrCreate()\n",
        "spark.conf.set(\"spark.executor.heartbeatInterval\",\"3600s\")"
      ],
      "execution_count": 0,
      "outputs": [
        {
          "output_type": "display_data",
          "data": {
            "text/html": [
              "<style scoped>\n",
              "  .ansiout {\n",
              "    display: block;\n",
              "    unicode-bidi: embed;\n",
              "    white-space: pre-wrap;\n",
              "    word-wrap: break-word;\n",
              "    word-break: break-all;\n",
              "    font-family: \"Source Code Pro\", \"Menlo\", monospace;;\n",
              "    font-size: 13px;\n",
              "    color: #555;\n",
              "    margin-left: 4px;\n",
              "    line-height: 19px;\n",
              "  }\n",
              "</style>\n",
              "<div class=\"ansiout\"></div>"
            ]
          },
          "metadata": {
            "tags": []
          }
        }
      ]
    },
    {
      "cell_type": "code",
      "metadata": {
        "id": "PnmKt7lV60ZE",
        "colab_type": "code",
        "colab": {}
      },
      "source": [
        ""
      ],
      "execution_count": 0,
      "outputs": []
    },
    {
      "cell_type": "code",
      "metadata": {
        "collapsed": true,
        "id": "XJHmYZYQ4ZHm",
        "colab_type": "code",
        "colab": {},
        "outputId": "f89a923a-37ea-460f-b578-8fe76bd23944"
      },
      "source": [
        "\n",
        "\n",
        "movies = spark.read.load(\"/FileStore/tables/movies.csv\", format='csv', header = True)\n",
        "ratings = spark.read.load(\"/FileStore/tables/ratings.csv\", format='csv', header = True)\n",
        "links = spark.read.load(\"/FileStore/tables/links.csv\", format='csv', header = True)\n",
        "tags = spark.read.load(\"/FileStore/tables/tags.csv\", format='csv', header = True)"
      ],
      "execution_count": 0,
      "outputs": [
        {
          "output_type": "display_data",
          "data": {
            "text/html": [
              "<style scoped>\n",
              "  .ansiout {\n",
              "    display: block;\n",
              "    unicode-bidi: embed;\n",
              "    white-space: pre-wrap;\n",
              "    word-wrap: break-word;\n",
              "    word-break: break-all;\n",
              "    font-family: \"Source Code Pro\", \"Menlo\", monospace;;\n",
              "    font-size: 13px;\n",
              "    color: #555;\n",
              "    margin-left: 4px;\n",
              "    line-height: 19px;\n",
              "  }\n",
              "</style>\n",
              "<div class=\"ansiout\"></div>"
            ]
          },
          "metadata": {
            "tags": []
          }
        }
      ]
    },
    {
      "cell_type": "code",
      "metadata": {
        "id": "jZj7fx7r4ZHq",
        "colab_type": "code",
        "colab": {}
      },
      "source": [
        "display(movies)"
      ],
      "execution_count": 0,
      "outputs": []
    },
    {
      "cell_type": "code",
      "metadata": {
        "id": "E9Aq_s2Q4ZHs",
        "colab_type": "code",
        "colab": {}
      },
      "source": [
        "display(ratings)"
      ],
      "execution_count": 0,
      "outputs": []
    },
    {
      "cell_type": "code",
      "metadata": {
        "id": "X6TY2TZY4ZHv",
        "colab_type": "code",
        "colab": {},
        "outputId": "b2532ec8-b47d-4694-dc46-e36d32ec5a51"
      },
      "source": [
        "tmp1 = ratings.groupBy(\"userID\").count().toPandas()['count'].min()\n",
        "tmp2 = ratings.groupBy(\"movieId\").count().toPandas()['count'].min()\n",
        "print('For the users that rated movies and the movies that were rated:')\n",
        "print('Minimum number of ratings per user is {}'.format(tmp1))\n",
        "print('Minimum number of ratings per movie is {}'.format(tmp2))"
      ],
      "execution_count": 0,
      "outputs": [
        {
          "output_type": "display_data",
          "data": {
            "text/html": [
              "<style scoped>\n",
              "  .ansiout {\n",
              "    display: block;\n",
              "    unicode-bidi: embed;\n",
              "    white-space: pre-wrap;\n",
              "    word-wrap: break-word;\n",
              "    word-break: break-all;\n",
              "    font-family: \"Source Code Pro\", \"Menlo\", monospace;;\n",
              "    font-size: 13px;\n",
              "    color: #555;\n",
              "    margin-left: 4px;\n",
              "    line-height: 19px;\n",
              "  }\n",
              "</style>\n",
              "<div class=\"ansiout\">For the users that rated movies and the movies that were rated:\n",
              "Minimum number of ratings per user is 20\n",
              "Minimum number of ratings per movie is 1\n",
              "</div>"
            ]
          },
          "metadata": {
            "tags": []
          }
        }
      ]
    },
    {
      "cell_type": "code",
      "metadata": {
        "id": "FoNNMNfo4ZHz",
        "colab_type": "code",
        "colab": {},
        "outputId": "6a01ab1c-55a7-4bb8-b50a-9bedb9415121"
      },
      "source": [
        "tmp1 = sum(ratings.groupBy(\"movieId\").count().toPandas()['count'] == 1)\n",
        "tmp2 = ratings.select('movieId').distinct().count()\n",
        "print('{} out of {} movies are rated by only one user'.format(tmp1, tmp2))"
      ],
      "execution_count": 0,
      "outputs": [
        {
          "output_type": "display_data",
          "data": {
            "text/html": [
              "<style scoped>\n",
              "  .ansiout {\n",
              "    display: block;\n",
              "    unicode-bidi: embed;\n",
              "    white-space: pre-wrap;\n",
              "    word-wrap: break-word;\n",
              "    word-break: break-all;\n",
              "    font-family: \"Source Code Pro\", \"Menlo\", monospace;;\n",
              "    font-size: 13px;\n",
              "    color: #555;\n",
              "    margin-left: 4px;\n",
              "    line-height: 19px;\n",
              "  }\n",
              "</style>\n",
              "<div class=\"ansiout\">3446 out of 9724 movies are rated by only one user\n",
              "</div>"
            ]
          },
          "metadata": {
            "tags": []
          }
        }
      ]
    },
    {
      "cell_type": "markdown",
      "metadata": {
        "id": "ATxcBeMu4ZH2",
        "colab_type": "text"
      },
      "source": [
        "## Part 2: Spark SQL and OLAP"
      ]
    },
    {
      "cell_type": "markdown",
      "metadata": {
        "id": "fM3QoDhZ4ZH4",
        "colab_type": "text"
      },
      "source": [
        "### The number of Users"
      ]
    },
    {
      "cell_type": "code",
      "metadata": {
        "id": "Sy9oMfpb4ZH6",
        "colab_type": "code",
        "colab": {},
        "outputId": "858fdf02-647e-4b40-91d3-5d9e3fedb99a"
      },
      "source": [
        "num_users = ratings.select('userID').distinct().count()\n",
        "\n",
        "print(\"the number of users is:\", str(num_users))"
      ],
      "execution_count": 0,
      "outputs": [
        {
          "output_type": "display_data",
          "data": {
            "text/html": [
              "<style scoped>\n",
              "  .ansiout {\n",
              "    display: block;\n",
              "    unicode-bidi: embed;\n",
              "    white-space: pre-wrap;\n",
              "    word-wrap: break-word;\n",
              "    word-break: break-all;\n",
              "    font-family: \"Source Code Pro\", \"Menlo\", monospace;;\n",
              "    font-size: 13px;\n",
              "    color: #555;\n",
              "    margin-left: 4px;\n",
              "    line-height: 19px;\n",
              "  }\n",
              "</style>\n",
              "<div class=\"ansiout\">the number of users is: 610\n",
              "</div>"
            ]
          },
          "metadata": {
            "tags": []
          }
        }
      ]
    },
    {
      "cell_type": "markdown",
      "metadata": {
        "id": "w3EhBafV4ZH-",
        "colab_type": "text"
      },
      "source": [
        "### The number of Movies"
      ]
    },
    {
      "cell_type": "code",
      "metadata": {
        "id": "PxHE5PVg4ZH_",
        "colab_type": "code",
        "colab": {},
        "outputId": "3400a0c2-477b-4f34-e8e3-7088b82d637b"
      },
      "source": [
        "num_movies = movies.select('movieId').distinct().count()\n",
        "\n",
        "print(\"the number of movies is:\", num_movies)"
      ],
      "execution_count": 0,
      "outputs": [
        {
          "output_type": "display_data",
          "data": {
            "text/html": [
              "<style scoped>\n",
              "  .ansiout {\n",
              "    display: block;\n",
              "    unicode-bidi: embed;\n",
              "    white-space: pre-wrap;\n",
              "    word-wrap: break-word;\n",
              "    word-break: break-all;\n",
              "    font-family: \"Source Code Pro\", \"Menlo\", monospace;;\n",
              "    font-size: 13px;\n",
              "    color: #555;\n",
              "    margin-left: 4px;\n",
              "    line-height: 19px;\n",
              "  }\n",
              "</style>\n",
              "<div class=\"ansiout\">the number of movies is: 9742\n",
              "</div>"
            ]
          },
          "metadata": {
            "tags": []
          }
        }
      ]
    },
    {
      "cell_type": "markdown",
      "metadata": {
        "id": "QelGFs1q4ZIC",
        "colab_type": "text"
      },
      "source": [
        "### How many movies are rated by users? List movies not rated before"
      ]
    },
    {
      "cell_type": "code",
      "metadata": {
        "id": "Wxrw6zmE4ZID",
        "colab_type": "code",
        "colab": {},
        "outputId": "39f7d8f4-dca6-4596-b80e-16d540a2a9f3"
      },
      "source": [
        "# ratings_Id = ratings.select('movieId').distinct().withColumnRenamed('movieId','id')\n",
        "# movie_rated = movies.filter(movies.movieId.isin(ratings_Id.id))\n",
        "# print(movie_rated)\n",
        "movie_not_rated = movies.join(ratings,movies.movieId == ratings.movieId,'leftanti')\n",
        "print('{} out of {} movies are rated by users'.format(num_movies-movie_not_rated.count(),num_movies))\n"
      ],
      "execution_count": 0,
      "outputs": [
        {
          "output_type": "display_data",
          "data": {
            "text/html": [
              "<style scoped>\n",
              "  .ansiout {\n",
              "    display: block;\n",
              "    unicode-bidi: embed;\n",
              "    white-space: pre-wrap;\n",
              "    word-wrap: break-word;\n",
              "    word-break: break-all;\n",
              "    font-family: \"Source Code Pro\", \"Menlo\", monospace;;\n",
              "    font-size: 13px;\n",
              "    color: #555;\n",
              "    margin-left: 4px;\n",
              "    line-height: 19px;\n",
              "  }\n",
              "</style>\n",
              "<div class=\"ansiout\">9724 out of 9742 movies are rated by users\n",
              "</div>"
            ]
          },
          "metadata": {
            "tags": []
          }
        }
      ]
    },
    {
      "cell_type": "code",
      "metadata": {
        "id": "eA2XL9yV4ZII",
        "colab_type": "code",
        "colab": {}
      },
      "source": [
        "display(movie_not_rated)"
      ],
      "execution_count": 0,
      "outputs": []
    },
    {
      "cell_type": "markdown",
      "metadata": {
        "id": "5FMZ2ab-4ZIL",
        "colab_type": "text"
      },
      "source": [
        "### List Movie Genres"
      ]
    },
    {
      "cell_type": "code",
      "metadata": {
        "id": "ODj8cFVP4ZIM",
        "colab_type": "code",
        "colab": {}
      },
      "source": [
        "movie_genre = movies.withColumn('genre', explode(split(movies.genres, '\\|')))\n",
        "genre = movie_genre.filter(movie_genre.genre != '(no genres listed)') \\\n",
        "                     .select(movie_genre.genre).distinct() \\\n",
        "                     .orderBy(movie_genre.genre)\n",
        "display(genre)"
      ],
      "execution_count": 0,
      "outputs": []
    },
    {
      "cell_type": "markdown",
      "metadata": {
        "id": "U_pFdJZN4ZIP",
        "colab_type": "text"
      },
      "source": [
        "### Movie for Each Category"
      ]
    },
    {
      "cell_type": "code",
      "metadata": {
        "id": "uZ2ymNR04ZIQ",
        "colab_type": "code",
        "colab": {},
        "outputId": "5d1df5df-435e-4bfe-aa72-00c0998ad43c"
      },
      "source": [
        "df_numGenre = movie_genre.groupBy(movie_genre.genre).count().orderBy('count', ascending = False)\n",
        "df_numGenre = df_numGenre.toPandas()\n",
        "ax = sns.barplot(x='genre', y='count',data = res)\n",
        "ax.set_title('Movie count in each genre')\n",
        "plt.setp(ax.get_xticklabels(), rotation=90)\n",
        "plt.tight_layout()\n",
        "display()"
      ],
      "execution_count": 0,
      "outputs": [
        {
          "output_type": "display_data",
          "data": {
            "image/png": "[encoded data removed]"
          },
          "metadata": {
            "tags": []
          }
        }
      ]
    },
    {
      "cell_type": "markdown",
      "metadata": {
        "id": "g0I2dF0m4ZIU",
        "colab_type": "text"
      },
      "source": [
        "## Part3: Spark ALS based approach for training model\n",
        "\n"
      ]
    },
    {
      "cell_type": "code",
      "metadata": {
        "collapsed": true,
        "id": "viiUopXe4ZIV",
        "colab_type": "code",
        "colab": {},
        "outputId": "9c6a4b7e-a0ef-40d0-f9db-08569b499333"
      },
      "source": [
        "from pyspark.ml.recommendation import ALS\n",
        "from pyspark.ml.evaluation import RegressionEvaluator\n",
        "#{\"pyspark.mllib\": \"pyspark.rdd.RDD\", \"pyspark.ml\": \"pyspark.sql.DataFrame\"}"
      ],
      "execution_count": 0,
      "outputs": [
        {
          "output_type": "display_data",
          "data": {
            "text/html": [
              "<style scoped>\n",
              "  .ansiout {\n",
              "    display: block;\n",
              "    unicode-bidi: embed;\n",
              "    white-space: pre-wrap;\n",
              "    word-wrap: break-word;\n",
              "    word-break: break-all;\n",
              "    font-family: \"Source Code Pro\", \"Menlo\", monospace;;\n",
              "    font-size: 13px;\n",
              "    color: #555;\n",
              "    margin-left: 4px;\n",
              "    line-height: 19px;\n",
              "  }\n",
              "</style>\n",
              "<div class=\"ansiout\"></div>"
            ]
          },
          "metadata": {
            "tags": []
          }
        }
      ]
    },
    {
      "cell_type": "code",
      "metadata": {
        "collapsed": true,
        "id": "zV1pmHhk4ZIZ",
        "colab_type": "code",
        "colab": {},
        "outputId": "683fdf23-d9f1-4dee-c679-65744f1bf2d6"
      },
      "source": [
        "movie_rating = sc.textFile(\"/FileStore/tables/ratings.csv\")"
      ],
      "execution_count": 0,
      "outputs": [
        {
          "output_type": "display_data",
          "data": {
            "text/html": [
              "<style scoped>\n",
              "  .ansiout {\n",
              "    display: block;\n",
              "    unicode-bidi: embed;\n",
              "    white-space: pre-wrap;\n",
              "    word-wrap: break-word;\n",
              "    word-break: break-all;\n",
              "    font-family: \"Source Code Pro\", \"Menlo\", monospace;;\n",
              "    font-size: 13px;\n",
              "    color: #555;\n",
              "    margin-left: 4px;\n",
              "    line-height: 19px;\n",
              "  }\n",
              "</style>\n",
              "<div class=\"ansiout\"></div>"
            ]
          },
          "metadata": {
            "tags": []
          }
        }
      ]
    },
    {
      "cell_type": "code",
      "metadata": {
        "collapsed": true,
        "id": "2u5SZwfx4ZId",
        "colab_type": "code",
        "colab": {},
        "outputId": "0cf9a410-b2d6-4f91-b545-ffec9545d130"
      },
      "source": [
        "header = movie_rating.take(1)[0]\n",
        "print(header)\n",
        "rating_data = movie_rating.filter(lambda line: line!=header).map(lambda line: line.split(\",\")).map(lambda tokens: (int(tokens[0]),int(tokens[1]),float(tokens[2]))).cache()"
      ],
      "execution_count": 0,
      "outputs": [
        {
          "output_type": "display_data",
          "data": {
            "text/html": [
              "<style scoped>\n",
              "  .ansiout {\n",
              "    display: block;\n",
              "    unicode-bidi: embed;\n",
              "    white-space: pre-wrap;\n",
              "    word-wrap: break-word;\n",
              "    word-break: break-all;\n",
              "    font-family: \"Source Code Pro\", \"Menlo\", monospace;;\n",
              "    font-size: 13px;\n",
              "    color: #555;\n",
              "    margin-left: 4px;\n",
              "    line-height: 19px;\n",
              "  }\n",
              "</style>\n",
              "<div class=\"ansiout\">userId,movieId,rating,timestamp\n",
              "</div>"
            ]
          },
          "metadata": {
            "tags": []
          }
        }
      ]
    },
    {
      "cell_type": "code",
      "metadata": {
        "id": "8ZpxT0Rl4ZIp",
        "colab_type": "code",
        "colab": {},
        "outputId": "3f44ec09-752c-44ec-ee37-b9088c0dd6c4"
      },
      "source": [
        "# check three rows\n",
        "rating_data.take(3)\n"
      ],
      "execution_count": 0,
      "outputs": [
        {
          "output_type": "display_data",
          "data": {
            "text/html": [
              "<style scoped>\n",
              "  .ansiout {\n",
              "    display: block;\n",
              "    unicode-bidi: embed;\n",
              "    white-space: pre-wrap;\n",
              "    word-wrap: break-word;\n",
              "    word-break: break-all;\n",
              "    font-family: \"Source Code Pro\", \"Menlo\", monospace;;\n",
              "    font-size: 13px;\n",
              "    color: #555;\n",
              "    margin-left: 4px;\n",
              "    line-height: 19px;\n",
              "  }\n",
              "</style>\n",
              "<div class=\"ansiout\"><span class=\"ansired\">Out[</span><span class=\"ansired\">5</span><span class=\"ansired\">]: </span>[(1, 1, 4.0), (1, 3, 4.0), (1, 6, 4.0)]</div>"
            ]
          },
          "metadata": {
            "tags": []
          }
        }
      ]
    },
    {
      "cell_type": "markdown",
      "metadata": {
        "id": "1bCiAgGS4ZIs",
        "colab_type": "text"
      },
      "source": [
        "Now we split the data into training/validation/testing sets using a 6/2/2 ratio."
      ]
    },
    {
      "cell_type": "code",
      "metadata": {
        "collapsed": true,
        "id": "0k6HbUqP4ZIs",
        "colab_type": "code",
        "colab": {},
        "outputId": "d9f84832-a82b-4ab2-e02d-31d50c32b7fd"
      },
      "source": [
        "train, validation, test = rating_data.randomSplit([6,2,2],seed = 7856)\n",
        "train = spark.createDataFrame(train)   #tranasform RDD to Dataframe \n",
        "validation = spark.createDataFrame(validation)   #tranasform RDD to Dataframe \n",
        "test = spark.createDataFrame(test)   #tranasform RDD to Dataframe "
      ],
      "execution_count": 0,
      "outputs": [
        {
          "output_type": "display_data",
          "data": {
            "text/html": [
              "<style scoped>\n",
              "  .ansiout {\n",
              "    display: block;\n",
              "    unicode-bidi: embed;\n",
              "    white-space: pre-wrap;\n",
              "    word-wrap: break-word;\n",
              "    word-break: break-all;\n",
              "    font-family: \"Source Code Pro\", \"Menlo\", monospace;;\n",
              "    font-size: 13px;\n",
              "    color: #555;\n",
              "    margin-left: 4px;\n",
              "    line-height: 19px;\n",
              "  }\n",
              "</style>\n",
              "<div class=\"ansiout\"></div>"
            ]
          },
          "metadata": {
            "tags": []
          }
        }
      ]
    },
    {
      "cell_type": "code",
      "metadata": {
        "id": "Uofh84_-4ZIv",
        "colab_type": "code",
        "colab": {}
      },
      "source": [
        "train = train.selectExpr(\"_1 as userId\", \"_2 as movieId\",\"_3 as rating\")\n",
        "train.cache()\n",
        "display(train)"
      ],
      "execution_count": 0,
      "outputs": []
    },
    {
      "cell_type": "code",
      "metadata": {
        "id": "6qHTuBUj4ZIx",
        "colab_type": "code",
        "colab": {}
      },
      "source": [
        "validation = validation.selectExpr(\"_1 as userId\", \"_2 as movieId\",\"_3 as rating\")\n",
        "validation.cache()\n",
        "display(validation)"
      ],
      "execution_count": 0,
      "outputs": []
    },
    {
      "cell_type": "code",
      "metadata": {
        "id": "eLGa9S1E4ZI1",
        "colab_type": "code",
        "colab": {}
      },
      "source": [
        "test = test.selectExpr(\"_1 as userId\", \"_2 as movieId\",\"_3 as rating\")\n",
        "test.cache()\n",
        "display(test)"
      ],
      "execution_count": 0,
      "outputs": []
    },
    {
      "cell_type": "markdown",
      "metadata": {
        "id": "wvcbUcdv4ZI4",
        "colab_type": "text"
      },
      "source": [
        "### ALS Model Selection and Evaluation\n",
        "\n",
        "With the ALS model, we can use a grid search to find the optimal hyperparameters."
      ]
    },
    {
      "cell_type": "code",
      "metadata": {
        "collapsed": true,
        "id": "cPIhrG_F4ZI4",
        "colab_type": "code",
        "colab": {},
        "outputId": "546af2dd-d6b5-4a23-bea1-e86cd9a596bc"
      },
      "source": [
        "def train_ALS(train_data, validation_data, num_iters, reg_param, ranks):\n",
        "    min_error = float('inf')\n",
        "    best_rank = -1\n",
        "    best_regularization = 0\n",
        "    best_model = None\n",
        "    als = ALS(maxIter=num_iters, userCol='userId', itemCol='movieId', ratingCol='rating',coldStartStrategy=\"drop\")\n",
        "    evaluator = RegressionEvaluator(metricName=\"rmse\", labelCol=\"rating\",predictionCol=\"prediction\")\n",
        "    for rank in ranks:\n",
        "      for reg in reg_param:\n",
        "            als.setParams(rank=rank,regParam=reg)\n",
        "            model = als.fit(train_data)\n",
        "            predictions = model.transform(validation_data)\n",
        "            \n",
        "            error = evaluator.evaluate(predictions)\n",
        "            print ('{} latent factors and regularization = {}: validation RMSE is {}'.format(rank, reg, error))\n",
        "              \n",
        "            if error < min_error:\n",
        "                min_error = error\n",
        "                best_rank = rank\n",
        "                best_regularization = reg\n",
        "                best_model = model\n",
        "    print ('\\nThe best model has {} latent factors and regularization = {}'.format(best_rank, best_regularization))\n",
        "    return best_model "
      ],
      "execution_count": 0,
      "outputs": [
        {
          "output_type": "display_data",
          "data": {
            "text/html": [
              "<style scoped>\n",
              "  .ansiout {\n",
              "    display: block;\n",
              "    unicode-bidi: embed;\n",
              "    white-space: pre-wrap;\n",
              "    word-wrap: break-word;\n",
              "    word-break: break-all;\n",
              "    font-family: \"Source Code Pro\", \"Menlo\", monospace;;\n",
              "    font-size: 13px;\n",
              "    color: #555;\n",
              "    margin-left: 4px;\n",
              "    line-height: 19px;\n",
              "  }\n",
              "</style>\n",
              "<div class=\"ansiout\"></div>"
            ]
          },
          "metadata": {
            "tags": []
          }
        }
      ]
    },
    {
      "cell_type": "code",
      "metadata": {
        "scrolled": true,
        "id": "L_7wDj6E4ZI-",
        "colab_type": "code",
        "colab": {}
      },
      "source": [
        "num_iterations = 10\n",
        "ranks = [6, 8, 10, 12, 14]\n",
        "reg_params = [0.05, 0.1, 0.2, 0.4, 0.8]\n",
        "\n",
        "import time\n",
        "start_time = time.time()\n",
        "best_model = train_ALS(train, validation, num_iterations, reg_params, ranks)\n"
      ],
      "execution_count": 0,
      "outputs": []
    },
    {
      "cell_type": "code",
      "metadata": {
        "id": "fTB5vn2m4ZJE",
        "colab_type": "code",
        "colab": {}
      },
      "source": [
        "def plot_learning_curve(iter_array, train_data, validation_data, reg_param, rank):\n",
        "  errors = []\n",
        "  evaluator = RegressionEvaluator(metricName=\"rmse\", labelCol=\"rating\", predictionCol=\"prediction\")\n",
        "  for iterr in iter_array:\n",
        "    # train the model by different iterations\n",
        "    als = ALS(rank=rank, maxIter=iterr, regParam=reg_param, userCol=\"userId\", itemCol=\"movieId\", ratingCol=\"rating\", \\\n",
        "              coldStartStrategy=\"drop\")\n",
        "    model = als.fit(train_data)\n",
        "    # make prediction on validation data\n",
        "    predictions = model.transform(validation_data)\n",
        "    # calculate the rmse of the prediction\n",
        "    error = evaluator.evaluate(predictions)\n",
        "    errors.append(error)\n",
        "  fig, ax = plt.subplots()\n",
        "  ax.plot(iter_array, errors)\n",
        "  ax.set_xlabel('iterations')\n",
        "  ax.set_ylabel('RMSE')\n",
        "  display(fig)\n",
        "  return errors"
      ],
      "execution_count": 0,
      "outputs": []
    },
    {
      "cell_type": "code",
      "metadata": {
        "id": "AY5YeELh4ZJG",
        "colab_type": "code",
        "colab": {}
      },
      "source": [
        "iter_array = [1, 2, 5, 10]\n",
        "plot_learning_curve(iter_array, train, validation, 0.2, 10)"
      ],
      "execution_count": 0,
      "outputs": []
    },
    {
      "cell_type": "markdown",
      "metadata": {
        "id": "agKFLdbe4ZJH",
        "colab_type": "text"
      },
      "source": [
        "### Model testing on the test data\n",
        "And finally, make a prediction and check the testing error."
      ]
    },
    {
      "cell_type": "code",
      "metadata": {
        "id": "1hWtB4ij4ZJI",
        "colab_type": "code",
        "colab": {},
        "outputId": "2d47910f-53b6-49fa-8328-9013eb5a6111"
      },
      "source": [
        "\n",
        "predictions = best_model.transform(test)\n",
        "evaluator = RegressionEvaluator(metricName=\"rmse\", labelCol=\"rating\",\n",
        "                                predictionCol=\"prediction\")\n",
        "rmse = evaluator.evaluate(predictions)\n",
        "print(\"Root-mean-square error = \" + str(rmse))"
      ],
      "execution_count": 0,
      "outputs": [
        {
          "output_type": "display_data",
          "data": {
            "text/html": [
              "<style scoped>\n",
              "  .ansiout {\n",
              "    display: block;\n",
              "    unicode-bidi: embed;\n",
              "    white-space: pre-wrap;\n",
              "    word-wrap: break-word;\n",
              "    word-break: break-all;\n",
              "    font-family: \"Source Code Pro\", \"Menlo\", monospace;;\n",
              "    font-size: 13px;\n",
              "    color: #555;\n",
              "    margin-left: 4px;\n",
              "    line-height: 19px;\n",
              "  }\n",
              "</style>\n",
              "<div class=\"ansiout\">Root-mean-square error = 0.8888862395630838\n",
              "</div>"
            ]
          },
          "metadata": {
            "tags": []
          }
        }
      ]
    },
    {
      "cell_type": "code",
      "metadata": {
        "id": "MSgK4bsY4ZJK",
        "colab_type": "code",
        "colab": {}
      },
      "source": [
        ""
      ],
      "execution_count": 0,
      "outputs": []
    }
  ]
}
